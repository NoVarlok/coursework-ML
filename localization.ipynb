{
 "cells": [
  {
   "cell_type": "code",
   "execution_count": 1,
   "metadata": {},
   "outputs": [],
   "source": [
    "import os\n",
    "os.environ[\"CUDA_DEVICE_ORDER\"]=\"PCI_BUS_ID\"\n",
    "os.environ[\"CUDA_VISIBLE_DEVICES\"]=\"3\"  # specify which GPU(s) to be used"
   ]
  },
  {
   "cell_type": "code",
   "execution_count": 2,
   "metadata": {},
   "outputs": [],
   "source": [
    "import os\n",
    "os.environ[\"CUDA_DEVICE_ORDER\"]=\"PCI_BUS_ID\"\n",
    "os.environ[\"CUDA_VISIBLE_DEVICES\"]=\"3\"  # specify which GPU(s) to be usedimport tensorflow as tf\n",
    "from tensorflow import keras\n",
    "from tensorflow.keras import layers\n",
    "import numpy as np\n",
    "import matplotlib.pyplot as plt\n",
    "import os\n",
    "from PIL import Image\n",
    "from tensorflow.keras.preprocessing.image import ImageDataGenerator\n",
    "import os\n",
    "import random\n",
    "import pandas as pd\n",
    "import math\n",
    "import tensorflow as tf"
   ]
  },
  {
   "cell_type": "code",
   "execution_count": 3,
   "metadata": {},
   "outputs": [
    {
     "name": "stdout",
     "output_type": "stream",
     "text": [
      "Default GPU Device: /device:GPU:0\n"
     ]
    }
   ],
   "source": [
    "if tf.test.gpu_device_name():\n",
    "    print('Default GPU Device: {}'.format(tf.test.gpu_device_name()))\n",
    "else:\n",
    "    print(\"Please install GPU version of TF\")"
   ]
  },
  {
   "cell_type": "code",
   "execution_count": 4,
   "metadata": {},
   "outputs": [],
   "source": [
    "AUTOTUNE = tf.data.experimental.AUTOTUNE"
   ]
  },
  {
   "cell_type": "code",
   "execution_count": 32,
   "metadata": {},
   "outputs": [
    {
     "name": "stdout",
     "output_type": "stream",
     "text": [
      "134 239\n"
     ]
    }
   ],
   "source": [
    "MAX_HEIGHT = 1072\n",
    "MAX_WIDTH = 1912\n",
    "shrink = 8\n",
    "HEIGHT = MAX_HEIGHT // shrink\n",
    "WIDTH = MAX_WIDTH // shrink\n",
    "batch_size = 64\n",
    "print(HEIGHT, WIDTH)"
   ]
  },
  {
   "cell_type": "code",
   "execution_count": null,
   "metadata": {},
   "outputs": [],
   "source": [
    "tensor = tf.convert_to_tensor([1, 2, 3, 4], dtype=tf.float32)\n",
    "tensor / 5"
   ]
  },
  {
   "cell_type": "code",
   "execution_count": 30,
   "metadata": {},
   "outputs": [],
   "source": [
    "def get_classes_info(root_dir: str, height, width):\n",
    "    labels = set()\n",
    "    counter = 0\n",
    "    classes_num = {}\n",
    "    with open(os.path.join(root_dir, 'localization.txt'), 'r') as file:\n",
    "        for line in file:\n",
    "            line = line.strip()\n",
    "            character = line.split(',')[-1]\n",
    "            if character not in labels:\n",
    "                labels.add(character)\n",
    "                classes_num[character] = 0\n",
    "            classes_num[character] += 1\n",
    "            counter += 1\n",
    "    labels = sorted(list(labels))\n",
    "    return labels, classes_num, counter\n",
    "\n",
    "def convertion(labels: list):\n",
    "    convert_to_categorical = {character: ind for ind, character in enumerate(labels)}\n",
    "    return convert_to_categorical\n",
    "\n",
    "def preprocess_image(image, coords):\n",
    "    image = tf.image.decode_jpeg(image, channels=3)\n",
    "    height, width, channels = image.shape\n",
    "    print(image.shape)\n",
    "    x_1, y_1, x_2, y_2 = coords\n",
    "    x_1, x_2 = x_1 * WIDTH / width, x_2 * WIDTH / width\n",
    "    y_1, y_2 = y_1 * HEIGHT / height, y_2 * HEIGHT / height\n",
    "    coords = tf.convert_to_tensor([x_1, y_1, x_2, y_2])\n",
    "    print(coords)\n",
    "    coords = tf.math.round(coords)\n",
    "    image = tf.image.resize(image, [HEIGHT, WIDTH])\n",
    "    image /= 255.0\n",
    "    return image, coords\n",
    "\n",
    "\n",
    "def load_and_preprocess(image_path, coords):\n",
    "    image = tf.io.read_file(image_path)\n",
    "    return preprocess_image(image, coords)\n",
    "\n",
    "def parse_input(root_dir: str, height, width):\n",
    "    images = []\n",
    "    answers_coord = []\n",
    "    answers_class = []\n",
    "    file_path = os.path.join(root_dir, 'try.txt')\n",
    "    print(file_path)\n",
    "    with open(file_path, 'r') as file:\n",
    "        for line in file:\n",
    "            line = line.strip().split(',')\n",
    "            x_1, y_1, x_2, y_2 = map(int, line[1:5])\n",
    "            x_1, x_2 = min(x_1, x_2), max(x_1, x_2)\n",
    "            y_1, y_2 = min(y_1, y_2), max(y_1, y_2)\n",
    "            image_path = os.path.join(root_dir, line[0])\n",
    "            coords = (x_1, y_1, x_2, y_2)\n",
    "            print(coords)\n",
    "            image, coords = load_and_preprocess(image_path, coords)\n",
    "            print(coords)\n",
    "            images.append(image)\n",
    "            answers_coord.append(coords)\n",
    "            answers_class.append(tf.keras.utils.to_categorical(convert_to_categorical[line[5]], len(labels)))\n",
    "    return image_path, answers_coord, answers_class"
   ]
  },
  {
   "cell_type": "code",
   "execution_count": 31,
   "metadata": {},
   "outputs": [
    {
     "name": "stdout",
     "output_type": "stream",
     "text": [
      "charles_montgomery_burns : 650\n",
      "homer_simpson : 612\n",
      "abraham_grampa_simpson : 595\n",
      "ned_flanders : 595\n",
      "lisa_simpson : 562\n",
      "marge_simpson : 557\n",
      "bart_simpson : 554\n",
      "principal_skinner : 506\n",
      "krusty_the_clown : 226\n",
      "nelson_muntz : 219\n",
      "moe_szyslak : 215\n",
      "kent_brockman : 213\n",
      "edna_krabappel : 212\n",
      "milhouse_van_houten : 210\n",
      "chief_wiggum : 209\n",
      "comic_book_guy : 208\n",
      "apu_nahasapeemapetilon : 206\n",
      "sideshow_bob : 171\n",
      "\n",
      " 6720\n",
      "18\n",
      "the-simpsons-characters-dataset/try.txt\n",
      "(80, 31, 337, 354)\n",
      "(368, 496, 3)\n",
      "tf.Tensor([ 38.548386  11.288043 162.38509  128.90218 ], shape=(4,), dtype=float32)\n",
      "tf.Tensor([ 39.  11. 162. 129.], shape=(4,), dtype=float32)\n",
      "the-simpsons-characters-dataset/simpsons_dataset/abraham_grampa_simpson/pic_0001.jpg\n"
     ]
    }
   ],
   "source": [
    "labels, classes_num, total = get_classes_info('the-simpsons-characters-dataset', 0, 0)\n",
    "# print(labels)\n",
    "for character, cnt in sorted(classes_num.items(), key=lambda x: -x[1]):\n",
    "    print(character, ':', cnt)\n",
    "print('\\n', total)\n",
    "print(len(labels))\n",
    "convert_to_categorical = convertion(labels)\n",
    "image_path, answres_coord, answers_class = parse_input('the-simpsons-characters-dataset', 0, 0)\n",
    "print(image_path)"
   ]
  },
  {
   "cell_type": "code",
   "execution_count": null,
   "metadata": {},
   "outputs": [],
   "source": []
  },
  {
   "cell_type": "code",
   "execution_count": null,
   "metadata": {},
   "outputs": [],
   "source": []
  },
  {
   "cell_type": "code",
   "execution_count": null,
   "metadata": {},
   "outputs": [],
   "source": []
  },
  {
   "cell_type": "code",
   "execution_count": null,
   "metadata": {},
   "outputs": [],
   "source": []
  },
  {
   "cell_type": "code",
   "execution_count": null,
   "metadata": {},
   "outputs": [],
   "source": []
  },
  {
   "cell_type": "code",
   "execution_count": null,
   "metadata": {},
   "outputs": [],
   "source": []
  },
  {
   "cell_type": "code",
   "execution_count": null,
   "metadata": {},
   "outputs": [],
   "source": []
  },
  {
   "cell_type": "code",
   "execution_count": null,
   "metadata": {},
   "outputs": [],
   "source": []
  },
  {
   "cell_type": "code",
   "execution_count": null,
   "metadata": {},
   "outputs": [],
   "source": []
  },
  {
   "cell_type": "code",
   "execution_count": null,
   "metadata": {},
   "outputs": [],
   "source": []
  },
  {
   "cell_type": "code",
   "execution_count": null,
   "metadata": {},
   "outputs": [],
   "source": []
  },
  {
   "cell_type": "code",
   "execution_count": null,
   "metadata": {},
   "outputs": [],
   "source": []
  },
  {
   "cell_type": "code",
   "execution_count": null,
   "metadata": {},
   "outputs": [],
   "source": []
  },
  {
   "cell_type": "code",
   "execution_count": null,
   "metadata": {},
   "outputs": [],
   "source": []
  },
  {
   "cell_type": "code",
   "execution_count": null,
   "metadata": {},
   "outputs": [],
   "source": []
  },
  {
   "cell_type": "code",
   "execution_count": null,
   "metadata": {},
   "outputs": [],
   "source": []
  },
  {
   "cell_type": "code",
   "execution_count": null,
   "metadata": {},
   "outputs": [],
   "source": []
  },
  {
   "cell_type": "code",
   "execution_count": null,
   "metadata": {},
   "outputs": [],
   "source": []
  },
  {
   "cell_type": "code",
   "execution_count": null,
   "metadata": {},
   "outputs": [],
   "source": []
  },
  {
   "cell_type": "code",
   "execution_count": null,
   "metadata": {},
   "outputs": [],
   "source": []
  },
  {
   "cell_type": "code",
   "execution_count": null,
   "metadata": {},
   "outputs": [],
   "source": []
  },
  {
   "cell_type": "code",
   "execution_count": null,
   "metadata": {},
   "outputs": [],
   "source": []
  },
  {
   "cell_type": "code",
   "execution_count": null,
   "metadata": {},
   "outputs": [],
   "source": []
  },
  {
   "cell_type": "code",
   "execution_count": null,
   "metadata": {},
   "outputs": [],
   "source": []
  },
  {
   "cell_type": "code",
   "execution_count": null,
   "metadata": {},
   "outputs": [],
   "source": []
  },
  {
   "cell_type": "code",
   "execution_count": null,
   "metadata": {},
   "outputs": [],
   "source": []
  },
  {
   "cell_type": "code",
   "execution_count": null,
   "metadata": {},
   "outputs": [],
   "source": []
  }
 ],
 "metadata": {
  "kernelspec": {
   "display_name": "Python 3",
   "language": "python",
   "name": "python3"
  },
  "language_info": {
   "codemirror_mode": {
    "name": "ipython",
    "version": 3
   },
   "file_extension": ".py",
   "mimetype": "text/x-python",
   "name": "python",
   "nbconvert_exporter": "python",
   "pygments_lexer": "ipython3",
   "version": "3.6.8"
  }
 },
 "nbformat": 4,
 "nbformat_minor": 2
}
